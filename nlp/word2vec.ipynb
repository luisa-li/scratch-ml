{
 "cells": [
  {
   "cell_type": "code",
   "execution_count": 1,
   "metadata": {},
   "outputs": [
    {
     "data": {
      "text/plain": [
       "'A tiny word2vec model for learning.'"
      ]
     },
     "execution_count": 1,
     "metadata": {},
     "output_type": "execute_result"
    }
   ],
   "source": [
    "\"\"\"A tiny word2vec model for learning.\"\"\""
   ]
  },
  {
   "cell_type": "code",
   "execution_count": 19,
   "metadata": {},
   "outputs": [],
   "source": [
    "import collections \n",
    "import math \n",
    "import random \n",
    "import torch\n",
    "from nlp import Vocab"
   ]
  },
  {
   "cell_type": "code",
   "execution_count": 3,
   "metadata": {},
   "outputs": [],
   "source": [
    "with open(\"../data/ptb/ptb.train.txt\") as f:\n",
    "    raw_text = f.read()\n",
    "sentences = [line.split() for line in raw_text.split('\\n')]"
   ]
  },
  {
   "cell_type": "code",
   "execution_count": 4,
   "metadata": {},
   "outputs": [
    {
     "data": {
      "text/plain": [
       "6719"
      ]
     },
     "execution_count": 4,
     "metadata": {},
     "output_type": "execute_result"
    }
   ],
   "source": [
    "vocab = Vocab(sentences, min_freq=10)\n",
    "len(vocab)"
   ]
  },
  {
   "cell_type": "markdown",
   "metadata": {},
   "source": [
    "## Subsampling"
   ]
  },
  {
   "cell_type": "code",
   "execution_count": 5,
   "metadata": {},
   "outputs": [],
   "source": [
    "T = 1e-4"
   ]
  },
  {
   "cell_type": "code",
   "execution_count": 6,
   "metadata": {},
   "outputs": [],
   "source": [
    "def discard_probability(t: float, freq: int, num_tokens: int) -> float:\n",
    "    \"\"\"\n",
    "    Calculates the probability for this word to be discarded. \n",
    "\n",
    "    Parameters\n",
    "    ----------\n",
    "    t : float\n",
    "        Hyperparameter to adjust for subsampling.\n",
    "    freq : int\n",
    "        Frequency of the word in the corpus.\n",
    "    num_tokens : int\n",
    "        Total number of tokens in the corpus.\n",
    "\n",
    "    Returns\n",
    "    -------\n",
    "    float\n",
    "        The probability for discarding this word.\n",
    "    \"\"\"\n",
    "    return max(1 - math.sqrt(t / (freq / num_tokens)), 0)\n",
    "\n",
    "def keep(prob: float) -> bool:\n",
    "    \"\"\"\n",
    "    Returns True if this word is kept under the roll of a imaginary dice.\n",
    "\n",
    "    Parameters\n",
    "    ----------\n",
    "    prob : float\n",
    "        Probability for keeping\n",
    "\n",
    "    Returns\n",
    "    -------\n",
    "    bool\n",
    "        To keep or not to keep :)\n",
    "    \"\"\"\n",
    "    rand = random.uniform(0, 1)\n",
    "    return rand < prob\n",
    "\n",
    "def subsample(sentences: list[list[str]], unk: str) -> tuple[list[list[str]], collections.Counter]:\n",
    "    \"\"\"\n",
    "    Subsamples the words in the vocabulary according to their frequencies.\n",
    "\n",
    "    Parameters\n",
    "    ----------\n",
    "    words : list[list[str]]\n",
    "        All the words in the corpus\n",
    "    unk : str\n",
    "        The <unk> token in this case\n",
    "\n",
    "    Returns\n",
    "    -------\n",
    "    tuple[list[list[str]], collections.Counter]\n",
    "        The subsampled words and the counter\n",
    "    \"\"\"\n",
    "    sentences = [[token for token in line if token != unk] for line in sentences]\n",
    "    counter = collections.Counter([token for line in sentences for token in line])\n",
    "    num_tokens = sum(counter.values())\n",
    "    subsampled_sentences = [[token for token in line if keep(discard_probability(T, counter[token], num_tokens))] for line in sentences]\n",
    "    return subsampled_sentences, counter"
   ]
  },
  {
   "cell_type": "code",
   "execution_count": 7,
   "metadata": {},
   "outputs": [],
   "source": [
    "subsampled, counter = subsample(sentences, '<unk>')"
   ]
  },
  {
   "cell_type": "markdown",
   "metadata": {},
   "source": [
    "## Extracting center words and context words "
   ]
  },
  {
   "cell_type": "code",
   "execution_count": 8,
   "metadata": {},
   "outputs": [],
   "source": [
    "def get_centers_and_contexts(corpus, max_window_size):\n",
    "    \"\"\"Return center words and context words in skip-gram.\"\"\"\n",
    "    centers, contexts = [], []\n",
    "    for line in corpus:\n",
    "        if len(line) < 2:\n",
    "            continue\n",
    "        centers += line\n",
    "        # adding the context for each word in that line\n",
    "        # such that each element in center corresponds to a sublist of contexts\n",
    "        for i in range(len(line)): \n",
    "            window_size = random.randint(1, max_window_size)\n",
    "            indices = list(range(max(0, i - window_size),\n",
    "                                 min(len(line), i + 1 + window_size)))\n",
    "            indices.remove(i)\n",
    "            contexts.append([line[idx] for idx in indices])\n",
    "    return centers, contexts"
   ]
  },
  {
   "cell_type": "code",
   "execution_count": 9,
   "metadata": {},
   "outputs": [],
   "source": [
    "# the total number of center context pairs would thus be the length of the flattened context list, each each word in that flattened list can be paired with a center word\n",
    "all_centers, all_contexts = get_centers_and_contexts(subsampled, 5)"
   ]
  },
  {
   "cell_type": "markdown",
   "metadata": {},
   "source": [
    "## Negative sampling"
   ]
  },
  {
   "cell_type": "markdown",
   "metadata": {},
   "source": [
    "The softmax objective is too expensive to compute, negative sampling modifies the learning objective to make the learning problem much easier to approach. \n",
    "\n",
    "The problem is now, given two words, predict if they are context target pairs. We just extracted positive context target pair, and now we want negative examples - words that are not context target pairs. "
   ]
  },
  {
   "cell_type": "markdown",
   "metadata": {},
   "source": [
    "We define a logistic model, where c is the context word, t is the target word, and y is the label.\n",
    "\n",
    "$ P(y = 1 | c, t) = \\sigma (\\theta_t^T e_c) $"
   ]
  },
  {
   "cell_type": "code",
   "execution_count": 10,
   "metadata": {},
   "outputs": [],
   "source": [
    "K = 3 # number of negative examples per positive example"
   ]
  },
  {
   "cell_type": "markdown",
   "metadata": {},
   "source": [
    "This is a much more simplified version of the algorithm that draws negative samples from the one described in the paper. Instead of drawing negative samples from a specific distribution, we are just going to randomly draw K of them from outside the context window. "
   ]
  },
  {
   "cell_type": "code",
   "execution_count": 11,
   "metadata": {},
   "outputs": [],
   "source": [
    "def get_negative_samples(all_centers, all_contexts, sentences, K):\n",
    "    all_negatives = []\n",
    "    for center, context, sentence in zip(all_centers, all_contexts, sentences):\n",
    "        difference = [word for word in sentence if word not in context and word != center]\n",
    "        all_negatives.append(difference[:K])\n",
    "    return all_negatives"
   ]
  },
  {
   "cell_type": "code",
   "execution_count": 12,
   "metadata": {},
   "outputs": [],
   "source": [
    "all_negatives = get_negative_samples(all_centers, all_contexts, subsampled, K)"
   ]
  },
  {
   "cell_type": "markdown",
   "metadata": {},
   "source": [
    "### Looking at some of the negatives and contexts just to make sure they look right"
   ]
  },
  {
   "cell_type": "code",
   "execution_count": 13,
   "metadata": {},
   "outputs": [
    {
     "data": {
      "text/plain": [
       "[[],\n",
       " ['as', 'a', 'nov.'],\n",
       " ['mr.', 'is', 'chairman'],\n",
       " ['old', 'and', 'former'],\n",
       " ['of', 'once', 'used']]"
      ]
     },
     "execution_count": 13,
     "metadata": {},
     "output_type": "execute_result"
    }
   ],
   "source": [
    "all_negatives[:5]"
   ]
  },
  {
   "cell_type": "code",
   "execution_count": 14,
   "metadata": {},
   "outputs": [
    {
     "data": {
      "text/plain": [
       "[['years', 'will'],\n",
       " ['N', 'will', 'the'],\n",
       " ['N', 'years', 'the', 'as'],\n",
       " ['N', 'years', 'will', 'as', 'a', 'nov.', 'N'],\n",
       " ['N', 'years', 'will', 'the', 'a', 'nov.', 'N']]"
      ]
     },
     "execution_count": 14,
     "metadata": {},
     "output_type": "execute_result"
    }
   ],
   "source": [
    "all_contexts[:5]"
   ]
  },
  {
   "cell_type": "markdown",
   "metadata": {},
   "source": [
    "## Constructing the dataset with negatives and contexts"
   ]
  },
  {
   "cell_type": "code",
   "execution_count": 15,
   "metadata": {},
   "outputs": [],
   "source": [
    "# converting the raw words into their indices in the vocabulary \n",
    "centers = vocab[all_centers]\n",
    "contexts = vocab[all_contexts]\n",
    "negatives = vocab[all_negatives]"
   ]
  },
  {
   "cell_type": "code",
   "execution_count": 35,
   "metadata": {},
   "outputs": [
    {
     "data": {
      "text/plain": [
       "(472608, 472608, 42069)"
      ]
     },
     "execution_count": 35,
     "metadata": {},
     "output_type": "execute_result"
    }
   ],
   "source": [
    "len(centers), len(contexts), len(negatives)"
   ]
  },
  {
   "cell_type": "code",
   "execution_count": 22,
   "metadata": {},
   "outputs": [],
   "source": [
    "def batchify(data):\n",
    "    \"\"\"Return a minibatch of examples for skip-gram with negative sampling.\"\"\"\n",
    "    max_len = max(len(c) + len(n) for _, c, n in data)\n",
    "    centers, contexts_negatives, masks, labels = [], [], [], []\n",
    "    for center, context, negative in data:\n",
    "        cur_len = len(context) + len(negative)\n",
    "        centers += [center]\n",
    "        contexts_negatives += [context + negative + [0] * (max_len - cur_len)]\n",
    "        masks += [[1] * cur_len + [0] * (max_len - cur_len)]\n",
    "        labels += [[1] * len(context) + [0] * (max_len - len(context))]\n",
    "    return (torch.tensor(centers).reshape((-1, 1)), torch.tensor(\n",
    "        contexts_negatives), torch.tensor(masks), torch.tensor(labels))"
   ]
  },
  {
   "cell_type": "code",
   "execution_count": 34,
   "metadata": {},
   "outputs": [
    {
     "ename": "AssertionError",
     "evalue": "",
     "output_type": "error",
     "traceback": [
      "\u001b[0;31m---------------------------------------------------------------------------\u001b[0m",
      "\u001b[0;31mAssertionError\u001b[0m                            Traceback (most recent call last)",
      "Cell \u001b[0;32mIn[34], line 17\u001b[0m\n\u001b[1;32m     15\u001b[0m NUM_WORKERS \u001b[38;5;241m=\u001b[39m \u001b[38;5;241m1\u001b[39m\n\u001b[1;32m     16\u001b[0m BATCH_SIZE \u001b[38;5;241m=\u001b[39m \u001b[38;5;241m50\u001b[39m\n\u001b[0;32m---> 17\u001b[0m dataset \u001b[38;5;241m=\u001b[39m \u001b[43mPTBDataset\u001b[49m\u001b[43m(\u001b[49m\u001b[43mcenters\u001b[49m\u001b[43m,\u001b[49m\u001b[43m \u001b[49m\u001b[43mcontexts\u001b[49m\u001b[43m,\u001b[49m\u001b[43m \u001b[49m\u001b[43mnegatives\u001b[49m\u001b[43m)\u001b[49m\n\u001b[1;32m     18\u001b[0m data_iter \u001b[38;5;241m=\u001b[39m torch\u001b[38;5;241m.\u001b[39mutils\u001b[38;5;241m.\u001b[39mdata\u001b[38;5;241m.\u001b[39mDataLoader(dataset, BATCH_SIZE, shuffle\u001b[38;5;241m=\u001b[39m\u001b[38;5;28;01mTrue\u001b[39;00m, collate_fn\u001b[38;5;241m=\u001b[39mbatchify, num_workers\u001b[38;5;241m=\u001b[39mNUM_WORKERS)\n",
      "Cell \u001b[0;32mIn[34], line 3\u001b[0m, in \u001b[0;36mPTBDataset.__init__\u001b[0;34m(self, centers, contexts, negatives)\u001b[0m\n\u001b[1;32m      2\u001b[0m \u001b[38;5;28;01mdef\u001b[39;00m \u001b[38;5;21m__init__\u001b[39m(\u001b[38;5;28mself\u001b[39m, centers, contexts, negatives):\n\u001b[0;32m----> 3\u001b[0m     \u001b[38;5;28;01massert\u001b[39;00m \u001b[38;5;28mlen\u001b[39m(centers) \u001b[38;5;241m==\u001b[39m \u001b[38;5;28mlen\u001b[39m(contexts) \u001b[38;5;241m==\u001b[39m \u001b[38;5;28mlen\u001b[39m(negatives)\n\u001b[1;32m      4\u001b[0m     \u001b[38;5;28mself\u001b[39m\u001b[38;5;241m.\u001b[39mcenters \u001b[38;5;241m=\u001b[39m centers\n\u001b[1;32m      5\u001b[0m     \u001b[38;5;28mself\u001b[39m\u001b[38;5;241m.\u001b[39mcontexts \u001b[38;5;241m=\u001b[39m contexts\n",
      "\u001b[0;31mAssertionError\u001b[0m: "
     ]
    }
   ],
   "source": [
    "class PTBDataset(torch.utils.data.Dataset):\n",
    "    def __init__(self, centers, contexts, negatives):\n",
    "        assert len(centers) == len(contexts) == len(negatives)\n",
    "        self.centers = centers\n",
    "        self.contexts = contexts\n",
    "        self.negatives = negatives\n",
    "        \n",
    "    def __getitem__(self, index):\n",
    "        return (self.centers[index], self.contexts[index],\n",
    "                    self.negatives[index])\n",
    "        \n",
    "    def __len__(self):\n",
    "        return len(self.centers)\n",
    "\n",
    "NUM_WORKERS = 1\n",
    "BATCH_SIZE = 50\n",
    "dataset = PTBDataset(centers, contexts, negatives)\n",
    "data_iter = torch.utils.data.DataLoader(dataset, BATCH_SIZE, shuffle=True, collate_fn=batchify, num_workers=NUM_WORKERS)"
   ]
  },
  {
   "cell_type": "code",
   "execution_count": 24,
   "metadata": {},
   "outputs": [
    {
     "data": {
      "text/plain": [
       "(tensor([[1],\n",
       "         [1]]),\n",
       " tensor([[2, 2, 3, 3, 3, 3],\n",
       "         [2, 2, 2, 3, 3, 0]]),\n",
       " tensor([[1, 1, 1, 1, 1, 1],\n",
       "         [1, 1, 1, 1, 1, 0]]),\n",
       " tensor([[1, 1, 0, 0, 0, 0],\n",
       "         [1, 1, 1, 0, 0, 0]]))"
      ]
     },
     "execution_count": 24,
     "metadata": {},
     "output_type": "execute_result"
    }
   ],
   "source": [
    "batch"
   ]
  },
  {
   "cell_type": "code",
   "execution_count": 26,
   "metadata": {},
   "outputs": [
    {
     "data": {
      "text/plain": [
       "27"
      ]
     },
     "execution_count": 26,
     "metadata": {},
     "output_type": "execute_result"
    }
   ],
   "source": [
    "centers[0]"
   ]
  },
  {
   "cell_type": "code",
   "execution_count": 33,
   "metadata": {},
   "outputs": [
    {
     "data": {
      "text/plain": [
       "[6697, 6612]"
      ]
     },
     "execution_count": 33,
     "metadata": {},
     "output_type": "execute_result"
    }
   ],
   "source": [
    "contexts[0]"
   ]
  },
  {
   "cell_type": "code",
   "execution_count": 32,
   "metadata": {},
   "outputs": [
    {
     "data": {
      "text/plain": [
       "[]"
      ]
     },
     "execution_count": 32,
     "metadata": {},
     "output_type": "execute_result"
    }
   ],
   "source": [
    "negatives[0]"
   ]
  }
 ],
 "metadata": {
  "kernelspec": {
   "display_name": "ml",
   "language": "python",
   "name": "python3"
  },
  "language_info": {
   "codemirror_mode": {
    "name": "ipython",
    "version": 3
   },
   "file_extension": ".py",
   "mimetype": "text/x-python",
   "name": "python",
   "nbconvert_exporter": "python",
   "pygments_lexer": "ipython3",
   "version": "3.11.4"
  }
 },
 "nbformat": 4,
 "nbformat_minor": 2
}
