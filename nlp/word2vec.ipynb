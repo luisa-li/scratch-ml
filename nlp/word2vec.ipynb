{
 "cells": [
  {
   "cell_type": "code",
   "execution_count": 1,
   "metadata": {},
   "outputs": [
    {
     "data": {
      "text/plain": [
       "'A tiny word2vec model for learning.'"
      ]
     },
     "execution_count": 1,
     "metadata": {},
     "output_type": "execute_result"
    }
   ],
   "source": [
    "\"\"\"A tiny word2vec model for learning.\"\"\""
   ]
  },
  {
   "cell_type": "code",
   "execution_count": 2,
   "metadata": {},
   "outputs": [],
   "source": [
    "import collections \n",
    "import math \n",
    "import random \n",
    "from nlp import Vocab"
   ]
  },
  {
   "cell_type": "code",
   "execution_count": 3,
   "metadata": {},
   "outputs": [],
   "source": [
    "with open(\"../data/ptb/ptb.train.txt\") as f:\n",
    "    raw_text = f.read()\n",
    "sentences = [line.split() for line in raw_text.split('\\n')]"
   ]
  },
  {
   "cell_type": "code",
   "execution_count": 4,
   "metadata": {},
   "outputs": [
    {
     "data": {
      "text/plain": [
       "6719"
      ]
     },
     "execution_count": 4,
     "metadata": {},
     "output_type": "execute_result"
    }
   ],
   "source": [
    "vocab = Vocab(sentences, min_freq=10)\n",
    "len(vocab)"
   ]
  },
  {
   "cell_type": "markdown",
   "metadata": {},
   "source": [
    "## Subsampling"
   ]
  },
  {
   "cell_type": "code",
   "execution_count": 5,
   "metadata": {},
   "outputs": [],
   "source": [
    "T = 1e-4"
   ]
  },
  {
   "cell_type": "code",
   "execution_count": 6,
   "metadata": {},
   "outputs": [],
   "source": [
    "def discard_probability(t: float, freq: int, num_tokens: int) -> float:\n",
    "    \"\"\"\n",
    "    Calculates the probability for this word to be discarded. \n",
    "\n",
    "    Parameters\n",
    "    ----------\n",
    "    t : float\n",
    "        Hyperparameter to adjust for subsampling.\n",
    "    freq : int\n",
    "        Frequency of the word in the corpus.\n",
    "    num_tokens : int\n",
    "        Total number of tokens in the corpus.\n",
    "\n",
    "    Returns\n",
    "    -------\n",
    "    float\n",
    "        The probability for discarding this word.\n",
    "    \"\"\"\n",
    "    return max(1 - math.sqrt(t / (freq / num_tokens)), 0)\n",
    "\n",
    "def keep(prob: float) -> bool:\n",
    "    \"\"\"\n",
    "    Returns True if this word is kept under the roll of a imaginary dice.\n",
    "\n",
    "    Parameters\n",
    "    ----------\n",
    "    prob : float\n",
    "        Probability for keeping\n",
    "\n",
    "    Returns\n",
    "    -------\n",
    "    bool\n",
    "        To keep or not to keep :)\n",
    "    \"\"\"\n",
    "    rand = random.uniform(0, 1)\n",
    "    return rand < prob\n",
    "\n",
    "def subsample(sentences: list[list[str]], unk: str) -> tuple[list[list[str]], collections.Counter]:\n",
    "    \"\"\"\n",
    "    Subsamples the words in the vocabulary according to their frequencies.\n",
    "\n",
    "    Parameters\n",
    "    ----------\n",
    "    words : list[list[str]]\n",
    "        All the words in the corpus\n",
    "    unk : str\n",
    "        The <unk> token in this case\n",
    "\n",
    "    Returns\n",
    "    -------\n",
    "    tuple[list[list[str]], collections.Counter]\n",
    "        The subsampled words and the counter\n",
    "    \"\"\"\n",
    "    sentences = [[token for token in line if vocab[token] != unk] for line in sentences]\n",
    "    counter = collections.Counter([token for line in sentences for token in line])\n",
    "    num_tokens = sum(counter.values())\n",
    "    subsampled_sentences = [[token for token in line if keep(discard_probability(T, counter[token], num_tokens))] for line in sentences]\n",
    "    return subsampled_sentences, counter"
   ]
  },
  {
   "cell_type": "code",
   "execution_count": 7,
   "metadata": {},
   "outputs": [],
   "source": [
    "subsampled, counter = subsample(sentences, vocab)"
   ]
  }
 ],
 "metadata": {
  "kernelspec": {
   "display_name": "ml",
   "language": "python",
   "name": "python3"
  },
  "language_info": {
   "codemirror_mode": {
    "name": "ipython",
    "version": 3
   },
   "file_extension": ".py",
   "mimetype": "text/x-python",
   "name": "python",
   "nbconvert_exporter": "python",
   "pygments_lexer": "ipython3",
   "version": "3.11.4"
  }
 },
 "nbformat": 4,
 "nbformat_minor": 2
}
