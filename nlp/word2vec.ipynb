{
 "cells": [
  {
   "cell_type": "code",
   "execution_count": null,
   "metadata": {},
   "outputs": [],
   "source": [
    "\"\"\"A tiny word2vec model for learning.\"\"\""
   ]
  },
  {
   "cell_type": "code",
   "execution_count": 1,
   "metadata": {},
   "outputs": [],
   "source": [
    "import collections \n",
    "import math \n",
    "import os \n",
    "import random \n",
    "import torch\n",
    "from nlp import Vocab"
   ]
  },
  {
   "cell_type": "code",
   "execution_count": 10,
   "metadata": {},
   "outputs": [],
   "source": [
    "with open(\"../data/ptb/ptb.train.txt\") as f:\n",
    "    raw_text = f.read()\n",
    "words_in_sentences = [line.split() for line in raw_text.split('\\n')]\n",
    "words = [token for line in words_in_sentences for token in line]"
   ]
  },
  {
   "cell_type": "code",
   "execution_count": 11,
   "metadata": {},
   "outputs": [
    {
     "data": {
      "text/plain": [
       "6719"
      ]
     },
     "execution_count": 11,
     "metadata": {},
     "output_type": "execute_result"
    }
   ],
   "source": [
    "vocab = Vocab(words, min_freq=10)\n",
    "len(vocab)"
   ]
  },
  {
   "cell_type": "markdown",
   "metadata": {},
   "source": [
    "## Subsampling"
   ]
  },
  {
   "cell_type": "code",
   "execution_count": 12,
   "metadata": {},
   "outputs": [],
   "source": [
    "T = 1e-4"
   ]
  },
  {
   "cell_type": "code",
   "execution_count": 21,
   "metadata": {},
   "outputs": [],
   "source": [
    "def discard_probability(t: float, freq: int, num_tokens: int) -> float:\n",
    "    \"\"\"\n",
    "    Calculates the probability for this word to be discarded. \n",
    "\n",
    "    Parameters\n",
    "    ----------\n",
    "    t : float\n",
    "        Hyperparameter to adjust for subsampling.\n",
    "    freq : int\n",
    "        Frequency of the word in the corpus.\n",
    "    num_tokens : int\n",
    "        Total number of tokens in the corpus.\n",
    "\n",
    "    Returns\n",
    "    -------\n",
    "    float\n",
    "        The probability for discarding this word.\n",
    "    \"\"\"\n",
    "    return max(1 - math.sqrt(t / (freq / num_tokens)), 0)\n",
    "\n",
    "def keep(prob: float) -> bool:\n",
    "    \"\"\"\n",
    "    Returns True if this word is kept under the roll of a imaginary dice.\n",
    "\n",
    "    Parameters\n",
    "    ----------\n",
    "    prob : float\n",
    "        Probability for keeping\n",
    "\n",
    "    Returns\n",
    "    -------\n",
    "    bool\n",
    "        To keep or not to keep :)\n",
    "    \"\"\"\n",
    "    rand = random.uniform(0, 1)\n",
    "    return rand < prob\n",
    "\n",
    "def subsample(words: list[str], unk: str) -> tuple[list[str], collections.Counter]:\n",
    "    \"\"\"\n",
    "    Subsamples the words in the vocabulary according to their frequencies.\n",
    "\n",
    "    Parameters\n",
    "    ----------\n",
    "    words : list[str]\n",
    "        All the words in the corpus\n",
    "    unk : str\n",
    "        The <unk> token in this case\n",
    "\n",
    "    Returns\n",
    "    -------\n",
    "    tuple[list[str], collections.Counter]\n",
    "        The subsampled words and the counter\n",
    "    \"\"\"\n",
    "    words_not_unk = [word for word in words if word != unk]\n",
    "    counter = collections.Counter(words_not_unk)\n",
    "    subsampled = []\n",
    "    for word in words_not_unk:\n",
    "        if keep(discard_probability(T, counter[word], sum(counter.values()))):\n",
    "            subsampled.append(word)\n",
    "    return subsampled, counter"
   ]
  },
  {
   "cell_type": "code",
   "execution_count": 22,
   "metadata": {},
   "outputs": [],
   "source": [
    "subsampled, counter = subsample(words, vocab)"
   ]
  },
  {
   "cell_type": "code",
   "execution_count": null,
   "metadata": {},
   "outputs": [],
   "source": []
  }
 ],
 "metadata": {
  "kernelspec": {
   "display_name": "ml",
   "language": "python",
   "name": "python3"
  },
  "language_info": {
   "codemirror_mode": {
    "name": "ipython",
    "version": 3
   },
   "file_extension": ".py",
   "mimetype": "text/x-python",
   "name": "python",
   "nbconvert_exporter": "python",
   "pygments_lexer": "ipython3",
   "version": "3.11.4"
  }
 },
 "nbformat": 4,
 "nbformat_minor": 2
}
